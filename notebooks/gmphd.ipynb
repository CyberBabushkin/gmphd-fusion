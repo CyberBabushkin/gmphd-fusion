{
 "cells": [
  {
   "cell_type": "code",
   "execution_count": 1,
   "metadata": {
    "ExecuteTime": {
     "start_time": "2023-04-28T03:08:31.137025Z",
     "end_time": "2023-04-28T03:08:31.142832Z"
    }
   },
   "outputs": [],
   "source": [
    "# %load_ext autoreload\n",
    "# %autoreload 2"
   ]
  },
  {
   "cell_type": "code",
   "execution_count": 2,
   "metadata": {
    "ExecuteTime": {
     "start_time": "2023-04-28T03:08:31.148494Z",
     "end_time": "2023-04-28T03:08:34.757699Z"
    }
   },
   "outputs": [],
   "source": [
    "import pickle\n",
    "import random\n",
    "from multiprocessing import Pool\n",
    "from pathlib import Path\n",
    "\n",
    "import matplotlib.pyplot as plt\n",
    "import numpy as np\n",
    "import tqdm\n",
    "from tqdm.contrib.concurrent import process_map\n",
    "\n",
    "from generator import generate_tracks_paper, generate_tracks_time_varying, generate_tracks_sudden_birth\n",
    "from runners import generate_tests, run_test_from_config, save_box_whisker_plot\n",
    "from test_case import TestUseCase2D\n",
    "\n",
    "from gmphd_fusion.data import StateVector, CovarianceMatrix\n",
    "from gmphd_fusion.gm import Gaussian, GaussianMixture\n",
    "from gmphd_fusion.measurement_model import LinearCoordinateMeasurementModel\n",
    "from gmphd_fusion.motion_models import ConstantVelocityMotionModel"
   ]
  },
  {
   "cell_type": "code",
   "execution_count": 3,
   "metadata": {
    "ExecuteTime": {
     "start_time": "2023-04-28T03:08:34.760507Z",
     "end_time": "2023-04-28T03:08:34.763784Z"
    }
   },
   "outputs": [],
   "source": [
    "plt.style.use(\"bmh\")\n",
    "plt.rcParams.update({\"figure.figsize\": (24, 12),\n",
    "                     \"axes.facecolor\": \"white\",\n",
    "                     \"axes.edgecolor\": \"black\"})"
   ]
  },
  {
   "cell_type": "markdown",
   "metadata": {},
   "source": [
    "# Define testing use cases"
   ]
  },
  {
   "cell_type": "code",
   "execution_count": 4,
   "metadata": {
    "ExecuteTime": {
     "start_time": "2023-04-28T03:08:34.764253Z",
     "end_time": "2023-04-28T03:08:34.801819Z"
    }
   },
   "outputs": [],
   "source": [
    "N_RUNS = 100\n",
    "EXPERIMENTS_DIR = Path(\"../experiments\")\n",
    "\n",
    "# Change of parameters that we are going to measure\n",
    "TEST_PARAMS = dict(\n",
    "    clutter_rate=[5. * i for i in range(11)],\n",
    "    detection_prob=[0.7 + 0.05 * i for i in range(7)],\n",
    "    merge_threshold=[4, 10, 20, 50],\n",
    "    prune_threshold=[1e-6, 1e-5, 1e-4, 1e-3],\n",
    "    survival_prob=[0.7 + 0.05 * i for i in range(7)],\n",
    ")\n",
    "\n",
    "TEST_CASES = dict(\n",
    "    two_obj_cross=TestUseCase2D(\n",
    "        surveillance_region=((-1000., -1000.), (1000., 1000.)),\n",
    "        clutter_rate=50,\n",
    "        detection_prob=0.98,\n",
    "        survival_prob=0.99,\n",
    "        prune_threshold=1e-5,\n",
    "        merge_threshold=4,\n",
    "        max_components=1000,\n",
    "        init_gm=GaussianMixture(),\n",
    "        birth_gm=GaussianMixture(\n",
    "            gaussians=[\n",
    "                Gaussian(\n",
    "                    mean=StateVector([250, 250, 0, 0]),\n",
    "                    cov=CovarianceMatrix(np.diag([100, 100, 25, 25])),\n",
    "                    label=Gaussian.BIRTH_LABEL),\n",
    "                Gaussian(\n",
    "                    mean=StateVector([-250, -250, 0, 0]),\n",
    "                    cov=CovarianceMatrix(np.diag([100, 100, 25, 25])),\n",
    "                    label=Gaussian.BIRTH_LABEL),\n",
    "            ],\n",
    "            weights=[0.1, 0.1],\n",
    "        ),\n",
    "        motion_model=ConstantVelocityMotionModel(motion_noise=5),\n",
    "        measurement_model=LinearCoordinateMeasurementModel(dim_measurement=2, dim_state=4, measurement_noise=10),\n",
    "        tracks_true=generate_tracks_paper(),\n",
    "        cpep_radius=20,\n",
    "        target_weight_threshold=0.5,\n",
    "    ),\n",
    "    birth_death_vary=TestUseCase2D(\n",
    "        surveillance_region=((-1000., -1000.), (1000., 1000.)),\n",
    "        clutter_rate=50,\n",
    "        detection_prob=0.98,\n",
    "        survival_prob=0.99,\n",
    "        prune_threshold=1e-5,\n",
    "        merge_threshold=4,\n",
    "        max_components=1000,\n",
    "        init_gm=GaussianMixture(),\n",
    "        birth_gm=GaussianMixture(\n",
    "            gaussians=[\n",
    "                Gaussian(\n",
    "                    mean=StateVector([-1000, 750, 0, 0]),\n",
    "                    cov=CovarianceMatrix(np.diag([100, 100, 30, 30])),\n",
    "                    label=Gaussian.BIRTH_LABEL),\n",
    "                Gaussian(\n",
    "                    mean=StateVector([1000, -750, 0, 0]),\n",
    "                    cov=CovarianceMatrix(np.diag([100, 100, 30, 30])),\n",
    "                    label=Gaussian.BIRTH_LABEL),\n",
    "            ],\n",
    "            weights=[0.1, 0.1],\n",
    "        ),\n",
    "        motion_model=ConstantVelocityMotionModel(motion_noise=5),\n",
    "        measurement_model=LinearCoordinateMeasurementModel(dim_measurement=2, dim_state=4, measurement_noise=10),\n",
    "        tracks_true=generate_tracks_time_varying(),\n",
    "        cpep_radius=20,\n",
    "        target_weight_threshold=0.5,\n",
    "    ),\n",
    "    birth_no_fusion=TestUseCase2D(\n",
    "        surveillance_region=((-1000., -1000.), (1000., 1000.)),\n",
    "        clutter_rate=50,\n",
    "        detection_prob=0.98,\n",
    "        survival_prob=0.99,\n",
    "        prune_threshold=1e-5,\n",
    "        merge_threshold=4,\n",
    "        max_components=1000,\n",
    "        init_gm=GaussianMixture(),\n",
    "        birth_gm=GaussianMixture(\n",
    "            gaussians=[\n",
    "                Gaussian(\n",
    "                    mean=StateVector([-1000, 750, 0, 0]),\n",
    "                    cov=CovarianceMatrix(np.diag([100, 100, 30, 30])),\n",
    "                    label=Gaussian.BIRTH_LABEL),\n",
    "                Gaussian(\n",
    "                    mean=StateVector([1000, -750, 0, 0]),\n",
    "                    cov=CovarianceMatrix(np.diag([100, 100, 30, 30])),\n",
    "                    label=Gaussian.BIRTH_LABEL),\n",
    "            ],\n",
    "            weights=[0.1, 0.1],\n",
    "        ),\n",
    "        motion_model=ConstantVelocityMotionModel(motion_noise=5),\n",
    "        measurement_model=LinearCoordinateMeasurementModel(dim_measurement=2, dim_state=4, measurement_noise=10),\n",
    "        tracks_true=generate_tracks_sudden_birth(),\n",
    "        cpep_radius=20,\n",
    "        target_weight_threshold=0.5,\n",
    "    ),\n",
    "    birth_fusion=TestUseCase2D(\n",
    "        surveillance_region=((-1000., -1000.), (1000., 1000.)),\n",
    "        clutter_rate=50,\n",
    "        detection_prob=0.98,\n",
    "        survival_prob=0.99,\n",
    "        prune_threshold=1e-5,\n",
    "        merge_threshold=4,\n",
    "        max_components=1000,\n",
    "        init_gm=GaussianMixture(),\n",
    "        birth_gm=GaussianMixture(\n",
    "            gaussians=[\n",
    "                Gaussian(\n",
    "                    mean=StateVector([-1000, 750, 0, 0]),\n",
    "                    cov=CovarianceMatrix(np.diag([100, 100, 30, 30])),\n",
    "                    label=Gaussian.BIRTH_LABEL),\n",
    "                Gaussian(\n",
    "                    mean=StateVector([1000, -750, 0, 0]),\n",
    "                    cov=CovarianceMatrix(np.diag([100, 100, 30, 30])),\n",
    "                    label=Gaussian.BIRTH_LABEL),\n",
    "            ],\n",
    "            weights=[0.1, 0.1],\n",
    "        ),\n",
    "        motion_model=ConstantVelocityMotionModel(motion_noise=5),\n",
    "        measurement_model=LinearCoordinateMeasurementModel(dim_measurement=2, dim_state=4, measurement_noise=10),\n",
    "        tracks_true=generate_tracks_sudden_birth(),\n",
    "        fuse={\n",
    "            20: GaussianMixture(\n",
    "                gaussians=[\n",
    "                    Gaussian(StateVector([-1050, -1050, 25, 25]), cov=CovarianceMatrix(np.diag([100, 100, 10, 10])),\n",
    "                             label=None)],\n",
    "                weights=[0.6],\n",
    "            ),\n",
    "            60: GaussianMixture(\n",
    "                gaussians=[Gaussian(StateVector([1020, 1020, -22, -22]), cov=CovarianceMatrix(np.diag([40, 40, 5, 5])),\n",
    "                                    label=None)],\n",
    "                weights=[0.7],\n",
    "            ),\n",
    "        },\n",
    "        cpep_radius=20,\n",
    "        target_weight_threshold=0.5,\n",
    "    ),\n",
    ")"
   ]
  },
  {
   "cell_type": "markdown",
   "metadata": {},
   "source": [
    "# Run"
   ]
  },
  {
   "cell_type": "code",
   "execution_count": 5,
   "metadata": {
    "ExecuteTime": {
     "start_time": "2023-04-28T03:08:34.811787Z",
     "end_time": "2023-04-28T03:08:34.815781Z"
    }
   },
   "outputs": [
    {
     "name": "stdout",
     "output_type": "stream",
     "text": [
      "Total number of test configurations: 13200\n"
     ]
    }
   ],
   "source": [
    "RUN = False\n",
    "\n",
    "run_configurations = generate_tests(N_RUNS, TEST_CASES, TEST_PARAMS, EXPERIMENTS_DIR)\n",
    "print(f\"Total number of test configurations: {len(run_configurations)}\")"
   ]
  },
  {
   "cell_type": "code",
   "execution_count": 6,
   "metadata": {
    "ExecuteTime": {
     "start_time": "2023-04-28T03:08:37.144805Z",
     "end_time": "2023-04-28T03:08:37.152855Z"
    }
   },
   "outputs": [
    {
     "name": "stdout",
     "output_type": "stream",
     "text": [
      "Total failed: 0\n",
      "CPU times: user 1.2 ms, sys: 329 µs, total: 1.53 ms\n",
      "Wall time: 1.27 ms\n"
     ]
    }
   ],
   "source": [
    "%%time\n",
    "if RUN:\n",
    "    pool = Pool()\n",
    "    random.shuffle(run_configurations)\n",
    "    success_flags = process_map(\n",
    "        run_test_from_config,\n",
    "        run_configurations,\n",
    "        tqdm_class=tqdm.notebook.tqdm,\n",
    "        max_workers=10,\n",
    "        chunksize=100,\n",
    "    )\n",
    "else:\n",
    "    success_flags = [True] * len(run_configurations)\n",
    "\n",
    "failed_indices = np.where(~np.array(success_flags))[0]\n",
    "print(f\"Total failed: {len(failed_indices)}\")"
   ]
  },
  {
   "cell_type": "markdown",
   "metadata": {},
   "source": [
    "# Compute metrics and build box plots"
   ]
  },
  {
   "cell_type": "code",
   "execution_count": 7,
   "metadata": {
    "ExecuteTime": {
     "start_time": "2023-04-28T03:08:41.162951Z",
     "end_time": "2023-04-28T03:08:41.171342Z"
    }
   },
   "outputs": [],
   "source": [
    "def prepare_metrics_struct():\n",
    "    struct = {}\n",
    "    for tname in TEST_CASES.keys():\n",
    "        struct[tname] = dict(\n",
    "            cpep={\n",
    "                param_name: {\n",
    "                    f\"{param_val:.3e}\": [0.] * N_RUNS\n",
    "                    for param_val in TEST_PARAMS[param_name]\n",
    "                }\n",
    "                for param_name in TEST_PARAMS.keys()\n",
    "            },\n",
    "            eae={\n",
    "                param_name: {\n",
    "                    f\"{param_val:.3e}\": [0.] * N_RUNS\n",
    "                    for param_val in TEST_PARAMS[param_name]\n",
    "                }\n",
    "                for param_name in TEST_PARAMS.keys()\n",
    "            }\n",
    "        )\n",
    "    return struct\n",
    "\n",
    "\n",
    "def _read_metrics(p: Path):\n",
    "    with (p / \"cpep_time.pickle\").open(\"rb\") as f:\n",
    "        cpep = pickle.load(f)\n",
    "        cpep = np.mean(cpep)\n",
    "    with (p / \"eae.pickle\").open(\"rb\") as f:\n",
    "        eae = pickle.load(f)\n",
    "    return cpep, eae\n",
    "\n",
    "\n",
    "def read_saved_metrics(experiments_dir: Path):\n",
    "    paths = [p.parent for p in experiments_dir.glob(\"**/_FINISHED\")]\n",
    "    \n",
    "    metrics_data = prepare_metrics_struct()\n",
    "    for p in paths:\n",
    "        # path structure: {test_name}/{param_name}={param_value:.3e}/{index:03d}\n",
    "        index = int(p.name)\n",
    "        param_name, param_value = p.parent.name.split(\"=\")\n",
    "        test_name = p.parent.parent.name\n",
    "        \n",
    "        cpep, eae = _read_metrics(p)\n",
    "        metrics_data[test_name][\"cpep\"][param_name][param_value][index] = cpep\n",
    "        metrics_data[test_name][\"eae\"][param_name][param_value][index] = eae\n",
    "    \n",
    "    ret = {}\n",
    "    for test_name, metrics_dict in metrics_data.items():\n",
    "        for metric_name, params_dict in metrics_dict.items():\n",
    "            for param_name, param_values in params_dict.items():\n",
    "                param_values, runs_data = zip(*param_values.items())\n",
    "                ret[(test_name, metric_name, param_name)] = {\n",
    "                    \"labels\": param_values,\n",
    "                    \"data\": runs_data,\n",
    "                }\n",
    "    return ret"
   ]
  },
  {
   "cell_type": "code",
   "execution_count": 8,
   "metadata": {
    "ExecuteTime": {
     "start_time": "2023-04-28T03:08:41.548446Z",
     "end_time": "2023-04-28T03:08:52.989227Z"
    }
   },
   "outputs": [],
   "source": [
    "metrics_data = read_saved_metrics(EXPERIMENTS_DIR)"
   ]
  },
  {
   "cell_type": "code",
   "execution_count": 10,
   "metadata": {},
   "outputs": [],
   "source": [
    "metrics_mapping = {\n",
    "    \"cpep\": {\n",
    "        \"y_label\": r'$\\mathrm{CPEP}_k(r)\\ (\\mathrm{time\\ averaged})$',\n",
    "    },\n",
    "    \"eae\": {\n",
    "        \"y_label\": r'$E\\left[\\left|{|\\hat{X}_k| - |X_k|}\\right|\\right]\\ (\\mathrm{time\\ averaged})$',\n",
    "    },\n",
    "}\n",
    "\n",
    "param_mapping = {\n",
    "    \"clutter_rate\": {\n",
    "        # \"/ 4\" is for \"/ surveillance_area\" but multiplied by the number in the text (10^6)\n",
    "        \"label_func\": lambda l: f\"{float(l) / 4.:.2f}\",\n",
    "        \"x_text\": r'$\\times\\mathdefault{10^{-6}}$',\n",
    "        \"x_label\": r'$\\lambda_c$',\n",
    "    },\n",
    "    \"detection_prob\": {\n",
    "        \"label_func\": lambda l: f\"{float(l):.2f}\",\n",
    "        \"x_text\": None,\n",
    "        \"x_label\": r'$P_{D,k}$',\n",
    "    },\n",
    "    \"prune_threshold\": {\n",
    "        \"label_func\": lambda l: f\"{float(l):.0e}\",\n",
    "        \"x_text\": None,\n",
    "        \"x_label\": r'$\\tau$',\n",
    "    },\n",
    "    \"merge_threshold\": {\n",
    "        \"label_func\": lambda l: f\"{float(l):.0f}\",\n",
    "        \"x_text\": None,\n",
    "        \"x_label\": r'$U$',\n",
    "    },\n",
    "    \"survival_prob\": {\n",
    "        \"label_func\": lambda l: f\"{float(l):.2f}\",\n",
    "        \"x_text\": None,\n",
    "        \"x_label\": r'$P_{S,k}$',\n",
    "    },\n",
    "}\n",
    "\n",
    "for (test_name, metric_name, param_name), mdata in metrics_data.items():\n",
    "    x_label = param_mapping[param_name][\"x_label\"]\n",
    "    y_label = metrics_mapping[metric_name][\"y_label\"]\n",
    "    x_ticks = [param_mapping[param_name][\"label_func\"](l) for l in mdata[\"labels\"]]\n",
    "    x_text = param_mapping[param_name][\"x_text\"]\n",
    "    experiments = mdata[\"data\"]\n",
    "    save_dir = EXPERIMENTS_DIR / test_name\n",
    "    save_box_whisker_plot(x_label, y_label, x_ticks, x_text, experiments, save_dir)"
   ]
  },
  {
   "cell_type": "markdown",
   "source": [
    "# Quick and dirty"
   ],
   "metadata": {
    "collapsed": false
   }
  },
  {
   "cell_type": "code",
   "execution_count": 31,
   "outputs": [],
   "source": [
    "def save_gt_tracks_plot(uc: TestUseCase2D, save_dir: Path):\n",
    "    fig, ax = plt.subplots(1, 1, figsize=(8, 8))\n",
    "    ax.set_xlim((-1100, 1100))\n",
    "    ax.set_ylim((-1100, 1100))\n",
    "    ax.set_xlabel(\"x coordinate (in m)\")\n",
    "    ax.set_ylabel(\"y coordinate (in m)\")\n",
    "\n",
    "    for t in uc.tracks_true:\n",
    "        start, end = None, None\n",
    "        for e in t.estimates:\n",
    "            if e is not None:\n",
    "                start = e\n",
    "                break\n",
    "        for e in reversed(t.estimates):\n",
    "            if e is not None:\n",
    "                end = e\n",
    "                break\n",
    "\n",
    "        x = start[0, 0]\n",
    "        dx = end[0, 0] - start[0, 0]\n",
    "        y = start[1, 0]\n",
    "        dy = end[1, 0] - start[1, 0]\n",
    "        ax.arrow(x, y, dx, dy, width=5, head_width=25, length_includes_head=True, color=\"black\")\n",
    "        ax.scatter([x], [y], facecolors=\"black\", edgecolors=\"black\", marker=\"o\", s=25)\n",
    "    fig.savefig(str(save_dir / \"true_tracks.png\"), bbox_inches=\"tight\")\n",
    "    plt.close(fig)\n",
    "\n",
    "\n",
    "for name, uc in TEST_CASES.items():\n",
    "    save_gt_tracks_plot(uc, EXPERIMENTS_DIR / name)"
   ],
   "metadata": {
    "collapsed": false,
    "ExecuteTime": {
     "start_time": "2023-04-26T16:06:42.695125Z",
     "end_time": "2023-04-26T16:06:43.662543Z"
    }
   }
  },
  {
   "cell_type": "code",
   "execution_count": 32,
   "outputs": [],
   "source": [
    "from gmphd_fusion.visualize import visualize_coord_change\n",
    "\n",
    "\n",
    "def coordinate_change_plot(uc, coord_idx, coord_name, save_dir):\n",
    "    fig, ax = plt.subplots(1, 1, figsize=(10, 4))\n",
    "    ax.set_xlim(0, uc.samples_per_test)\n",
    "    ax.set_ylim(*uc.ylim)\n",
    "\n",
    "    visualize_coord_change(ax, uc.tracks_true, coord_idx, coord_name)\n",
    "    fig.savefig(str(save_dir / f\"coord_true_{coord_name}_plot.png\"), bbox_inches=\"tight\")\n",
    "    plt.close(fig)\n",
    "\n",
    "\n",
    "for name, uc in TEST_CASES.items():\n",
    "    coordinate_change_plot(uc, 0, \"x\", EXPERIMENTS_DIR / name)\n",
    "    coordinate_change_plot(uc, 1, \"y\", EXPERIMENTS_DIR / name)"
   ],
   "metadata": {
    "collapsed": false,
    "ExecuteTime": {
     "start_time": "2023-04-26T18:36:03.699467Z",
     "end_time": "2023-04-26T18:36:05.471409Z"
    }
   }
  },
  {
   "cell_type": "code",
   "execution_count": 43,
   "outputs": [
    {
     "name": "stdout",
     "output_type": "stream",
     "text": [
      "[two_obj_cross] Number of true tracks: 2\n",
      "[two_obj_cross] Min targets: 2\n",
      "[two_obj_cross] Max targets: 2\n",
      "Initial state for track 0 (time k=1): [[250.0], [250.0], [2.5], [-12.0]]\n",
      "Initial state for track 1 (time k=1): [[-250.0], [-250.0], [12.0], [-2.5]]\n",
      "------------------------------------------------------------\n",
      "[birth_death_vary] Number of true tracks: 6\n",
      "[birth_death_vary] Min targets: 1\n",
      "[birth_death_vary] Max targets: 5\n",
      "Initial state for track 0 (time k=0): [[-1000.0], [750.0], [25.0], [0.0]]\n",
      "Initial state for track 1 (time k=10): [[1000.0], [-750.0], [-25.0], [-0.0]]\n",
      "Initial state for track 2 (time k=20): [[-1000.0], [750.0], [17.67766952966369], [-17.677669529663685]]\n",
      "Initial state for track 3 (time k=30): [[1000.0], [-750.0], [-17.67766952966369], [17.677669529663685]]\n",
      "Initial state for track 4 (time k=40): [[-1000.0], [750.0], [1.5308084989341915e-15], [-25.0]]\n",
      "Initial state for track 5 (time k=50): [[1000.0], [-750.0], [-1.5308084989341915e-15], [25.0]]\n",
      "------------------------------------------------------------\n",
      "[birth_no_fusion] Number of true tracks: 8\n",
      "[birth_no_fusion] Min targets: 1\n",
      "[birth_no_fusion] Max targets: 6\n",
      "Initial state for track 0 (time k=0): [[-1000.0], [750.0], [25.0], [0.0]]\n",
      "Initial state for track 1 (time k=10): [[1000.0], [-750.0], [-25.0], [-0.0]]\n",
      "Initial state for track 2 (time k=20): [[-1000.0], [750.0], [17.67766952966369], [-17.677669529663685]]\n",
      "Initial state for track 3 (time k=30): [[1000.0], [-750.0], [-17.67766952966369], [17.677669529663685]]\n",
      "Initial state for track 4 (time k=40): [[-1000.0], [750.0], [1.5308084989341915e-15], [-25.0]]\n",
      "Initial state for track 5 (time k=50): [[1000.0], [-750.0], [-1.5308084989341915e-15], [25.0]]\n",
      "Initial state for track 6 (time k=20): [[-1000], [-1000], [20], [20]]\n",
      "Initial state for track 7 (time k=60): [[1000], [1000], [-20], [-20]]\n",
      "------------------------------------------------------------\n",
      "[birth_fusion] Number of true tracks: 8\n",
      "[birth_fusion] Min targets: 1\n",
      "[birth_fusion] Max targets: 6\n",
      "Initial state for track 0 (time k=0): [[-1000.0], [750.0], [25.0], [0.0]]\n",
      "Initial state for track 1 (time k=10): [[1000.0], [-750.0], [-25.0], [-0.0]]\n",
      "Initial state for track 2 (time k=20): [[-1000.0], [750.0], [17.67766952966369], [-17.677669529663685]]\n",
      "Initial state for track 3 (time k=30): [[1000.0], [-750.0], [-17.67766952966369], [17.677669529663685]]\n",
      "Initial state for track 4 (time k=40): [[-1000.0], [750.0], [1.5308084989341915e-15], [-25.0]]\n",
      "Initial state for track 5 (time k=50): [[1000.0], [-750.0], [-1.5308084989341915e-15], [25.0]]\n",
      "Initial state for track 6 (time k=20): [[-1000], [-1000], [20], [20]]\n",
      "Initial state for track 7 (time k=60): [[1000], [1000], [-20], [-20]]\n",
      "------------------------------------------------------------\n"
     ]
    }
   ],
   "source": [
    "for name, uc in TEST_CASES.items():\n",
    "    print(f\"[{name}] Number of true tracks: {len(uc.tracks_true)}\")\n",
    "\n",
    "    ntargets_at_k = list(map(sum, [[1 if t.estimate_at(i) is not None else 0 for t in uc.tracks_true] for i in range(1, 100)]))\n",
    "    print(f\"[{name}] Min targets: {min(ntargets_at_k)}\")\n",
    "    print(f\"[{name}] Max targets: {max(ntargets_at_k)}\")\n",
    "\n",
    "    for i, t in enumerate(uc.tracks_true):\n",
    "        for k in range(0, 100):\n",
    "            e = t.estimate_at(k)\n",
    "            if e is not None:\n",
    "                init_state = e.tolist()\n",
    "                init_time = k\n",
    "                break\n",
    "        print(f\"Initial state for track {i} (time k={k}): {init_state}\")\n",
    "    print(\"-\" * 60)"
   ],
   "metadata": {
    "collapsed": false,
    "ExecuteTime": {
     "start_time": "2023-04-26T20:06:33.682691Z",
     "end_time": "2023-04-26T20:06:33.695147Z"
    }
   }
  },
  {
   "cell_type": "code",
   "execution_count": 12,
   "outputs": [
    {
     "name": "stdout",
     "output_type": "stream",
     "text": [
      "[birth_no_fusion] CPEP: 0.87876\n",
      "[birth_no_fusion] EAE: 1.00350\n",
      "[birth_fusion] CPEP: 0.85900\n",
      "[birth_fusion] EAE: 0.35380\n"
     ]
    }
   ],
   "source": [
    "# extract metrics\n",
    "cases = [\"birth_no_fusion\", \"birth_fusion\"]\n",
    "cnf_path = Path(\"experiments/birth_no_fusion/clutter_rate=5.000e+01\")\n",
    "cf = Path(\"experiments/birth_fusion/clutter_rate=5.000e+01\")\n",
    "\n",
    "keys = [\n",
    "    (\"birth_no_fusion\", \"cpep\", \"clutter_rate\"),\n",
    "    (\"birth_no_fusion\", \"eae\", \"clutter_rate\"),\n",
    "    (\"birth_fusion\", \"cpep\", \"clutter_rate\"),\n",
    "    (\"birth_fusion\", \"eae\", \"clutter_rate\")\n",
    "]\n",
    "\n",
    "for key in keys:\n",
    "    data = metrics_data[key][\"data\"][-1]\n",
    "    print(f\"[{key[0]}] {key[1].upper()}: {np.mean(data):.5f}\")"
   ],
   "metadata": {
    "collapsed": false,
    "ExecuteTime": {
     "start_time": "2023-04-28T03:14:52.525115Z",
     "end_time": "2023-04-28T03:14:52.528303Z"
    }
   }
  },
  {
   "cell_type": "code",
   "execution_count": null,
   "outputs": [],
   "source": [],
   "metadata": {
    "collapsed": false
   }
  }
 ],
 "metadata": {
  "kernelspec": {
   "display_name": "Python 3 (ipykernel)",
   "language": "python",
   "name": "python3"
  },
  "language_info": {
   "codemirror_mode": {
    "name": "ipython",
    "version": 3
   },
   "file_extension": ".py",
   "mimetype": "text/x-python",
   "name": "python",
   "nbconvert_exporter": "python",
   "pygments_lexer": "ipython3",
   "version": "3.10.9"
  }
 },
 "nbformat": 4,
 "nbformat_minor": 1
}
