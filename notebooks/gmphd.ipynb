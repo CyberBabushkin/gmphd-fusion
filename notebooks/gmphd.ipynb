{
 "cells": [
  {
   "cell_type": "code",
   "execution_count": 1,
   "outputs": [],
   "source": [
    "# %load_ext autoreload\n",
    "# %autoreload 2"
   ],
   "metadata": {
    "collapsed": false
   }
  },
  {
   "cell_type": "code",
   "execution_count": 2,
   "metadata": {
    "collapsed": true
   },
   "outputs": [],
   "source": [
    "from multiprocessing import Pool\n",
    "from pathlib import Path\n",
    "\n",
    "import matplotlib.pyplot as plt\n",
    "import numpy as np\n",
    "\n",
    "from generator import generate_tracks_paper, generate_tracks_time_varying, generate_tracks_sudden_birth\n",
    "from runners import generate_tests, run_test_from_config\n",
    "from test_case import TestUseCase2D\n",
    "\n",
    "from gmphd_fusion.data import StateVector, CovarianceMatrix\n",
    "from gmphd_fusion.gm import Gaussian, GaussianMixture\n",
    "from gmphd_fusion.measurement_model import LinearCoordinateMeasurementModel\n",
    "from gmphd_fusion.motion_models import ConstantVelocityMotionModel"
   ]
  },
  {
   "cell_type": "code",
   "execution_count": 3,
   "outputs": [],
   "source": [
    "plt.style.use(\"bmh\")\n",
    "plt.rcParams.update({\"figure.figsize\": (24, 12),\n",
    "                     \"axes.facecolor\": \"white\",\n",
    "                     \"axes.edgecolor\": \"black\"})"
   ],
   "metadata": {
    "collapsed": false
   }
  },
  {
   "cell_type": "markdown",
   "source": [
    "# Define testing use cases"
   ],
   "metadata": {
    "collapsed": false
   }
  },
  {
   "cell_type": "code",
   "execution_count": 4,
   "outputs": [],
   "source": [
    "N_RUNS = 100\n",
    "EXPERIMENTS_DIR = Path(\"../experiments\")\n",
    "\n",
    "# Change of parameters that we are going to measure\n",
    "TEST_PARAMS = dict(\n",
    "    clutter_rate=[5. * (i + 1) for i in range(10)],\n",
    "    detection_prob=[0.7 + 0.05 * i for i in range(7)],\n",
    ")\n",
    "\n",
    "TEST_CASES = dict(\n",
    "    two_obj_cross=TestUseCase2D(\n",
    "        surveillance_region=((-1000., -1000.), (1000., 1000.)),\n",
    "        clutter_rate=50,\n",
    "        detection_prob=0.98,\n",
    "        survival_prob=0.99,\n",
    "        prune_threshold=1e-5,\n",
    "        merge_threshold=4,\n",
    "        max_components=1000,\n",
    "        init_gm=GaussianMixture(),\n",
    "        birth_gm=GaussianMixture(\n",
    "            gaussians=[\n",
    "                Gaussian(\n",
    "                    mean=StateVector([250, 250, 0, 0]),\n",
    "                    cov=CovarianceMatrix(np.diag([100, 100, 25, 25])),\n",
    "                    label=Gaussian.BIRTH_LABEL),\n",
    "                Gaussian(\n",
    "                    mean=StateVector([-250, -250, 0, 0]),\n",
    "                    cov=CovarianceMatrix(np.diag([100, 100, 25, 25])),\n",
    "                    label=Gaussian.BIRTH_LABEL),\n",
    "            ],\n",
    "            weights=[0.1, 0.1],\n",
    "        ),\n",
    "        motion_model=ConstantVelocityMotionModel(motion_noise=5),\n",
    "        measurement_model=LinearCoordinateMeasurementModel(dim_measurement=2, dim_state=4, measurement_noise=10),\n",
    "        tracks_true=generate_tracks_paper(),\n",
    "        cpep_radius=20,\n",
    "        target_weight_threshold=0.5,\n",
    "    ),\n",
    "    birth_death_vary=TestUseCase2D(\n",
    "        surveillance_region=((-1000., -1000.), (1000., 1000.)),\n",
    "        clutter_rate=50,\n",
    "        detection_prob=0.98,\n",
    "        survival_prob=0.99,\n",
    "        prune_threshold=1e-5,\n",
    "        merge_threshold=4,\n",
    "        max_components=1000,\n",
    "        init_gm=GaussianMixture(),\n",
    "        birth_gm=GaussianMixture(\n",
    "            gaussians=[\n",
    "                Gaussian(\n",
    "                    mean=StateVector([-1000, 750, 0, 0]),\n",
    "                    cov=CovarianceMatrix(np.diag([100, 100, 30, 30])),\n",
    "                    label=Gaussian.BIRTH_LABEL),\n",
    "                Gaussian(\n",
    "                    mean=StateVector([1000, -750, 0, 0]),\n",
    "                    cov=CovarianceMatrix(np.diag([100, 100, 30, 30])),\n",
    "                    label=Gaussian.BIRTH_LABEL),\n",
    "            ],\n",
    "            weights=[0.1, 0.1],\n",
    "        ),\n",
    "        motion_model=ConstantVelocityMotionModel(motion_noise=5),\n",
    "        measurement_model=LinearCoordinateMeasurementModel(dim_measurement=2, dim_state=4, measurement_noise=10),\n",
    "        tracks_true=generate_tracks_time_varying(),\n",
    "        cpep_radius=20,\n",
    "        target_weight_threshold=0.5,\n",
    "    ),\n",
    "    birth_no_fusion=TestUseCase2D(\n",
    "        surveillance_region=((-1000., -1000.), (1000., 1000.)),\n",
    "        clutter_rate=50,\n",
    "        detection_prob=0.98,\n",
    "        survival_prob=0.99,\n",
    "        prune_threshold=1e-5,\n",
    "        merge_threshold=4,\n",
    "        max_components=1000,\n",
    "        init_gm=GaussianMixture(),\n",
    "        birth_gm=GaussianMixture(\n",
    "            gaussians=[\n",
    "                Gaussian(\n",
    "                    mean=StateVector([-1000, 750, 0, 0]),\n",
    "                    cov=CovarianceMatrix(np.diag([100, 100, 30, 30])),\n",
    "                    label=Gaussian.BIRTH_LABEL),\n",
    "                Gaussian(\n",
    "                    mean=StateVector([1000, -750, 0, 0]),\n",
    "                    cov=CovarianceMatrix(np.diag([100, 100, 30, 30])),\n",
    "                    label=Gaussian.BIRTH_LABEL),\n",
    "            ],\n",
    "            weights=[0.1, 0.1],\n",
    "        ),\n",
    "        motion_model=ConstantVelocityMotionModel(motion_noise=5),\n",
    "        measurement_model=LinearCoordinateMeasurementModel(dim_measurement=2, dim_state=4, measurement_noise=10),\n",
    "        tracks_true=generate_tracks_sudden_birth(),\n",
    "        cpep_radius=20,\n",
    "        target_weight_threshold=0.5,\n",
    "    ),\n",
    "    birth_fusion=TestUseCase2D(\n",
    "        surveillance_region=((-1000., -1000.), (1000., 1000.)),\n",
    "        clutter_rate=50,\n",
    "        detection_prob=0.98,\n",
    "        survival_prob=0.99,\n",
    "        prune_threshold=1e-5,\n",
    "        merge_threshold=4,\n",
    "        max_components=1000,\n",
    "        init_gm=GaussianMixture(),\n",
    "        birth_gm=GaussianMixture(\n",
    "            gaussians=[\n",
    "                Gaussian(\n",
    "                    mean=StateVector([-1000, 750, 0, 0]),\n",
    "                    cov=CovarianceMatrix(np.diag([100, 100, 30, 30])),\n",
    "                    label=Gaussian.BIRTH_LABEL),\n",
    "                Gaussian(\n",
    "                    mean=StateVector([1000, -750, 0, 0]),\n",
    "                    cov=CovarianceMatrix(np.diag([100, 100, 30, 30])),\n",
    "                    label=Gaussian.BIRTH_LABEL),\n",
    "            ],\n",
    "            weights=[0.1, 0.1],\n",
    "        ),\n",
    "        motion_model=ConstantVelocityMotionModel(motion_noise=5),\n",
    "        measurement_model=LinearCoordinateMeasurementModel(dim_measurement=2, dim_state=4, measurement_noise=10),\n",
    "        tracks_true=generate_tracks_sudden_birth(),\n",
    "        fuse={\n",
    "            20: GaussianMixture(\n",
    "                gaussians=[\n",
    "                    Gaussian(StateVector([-1050, -1050, 25, 25]), cov=CovarianceMatrix(np.diag([100, 100, 10, 10])),\n",
    "                             label=None)],\n",
    "                weights=[0.6],\n",
    "            ),\n",
    "            60: GaussianMixture(\n",
    "                gaussians=[Gaussian(StateVector([1020, 1020, -22, -22]), cov=CovarianceMatrix(np.diag([40, 40, 5, 5])),\n",
    "                                    label=None)],\n",
    "                weights=[0.7],\n",
    "            ),\n",
    "        },\n",
    "        cpep_radius=20,\n",
    "        target_weight_threshold=0.5,\n",
    "    ),\n",
    ")"
   ],
   "metadata": {
    "collapsed": false
   }
  },
  {
   "cell_type": "markdown",
   "source": [
    "# Run"
   ],
   "metadata": {
    "collapsed": false
   }
  },
  {
   "cell_type": "code",
   "execution_count": 5,
   "outputs": [],
   "source": [
    "run_configurations = generate_tests(N_RUNS, TEST_CASES, TEST_PARAMS, EXPERIMENTS_DIR)"
   ],
   "metadata": {
    "collapsed": false
   }
  },
  {
   "cell_type": "code",
   "execution_count": 6,
   "outputs": [
    {
     "name": "stdout",
     "output_type": "stream",
     "text": [
      "CPU times: user 34.8 ms, sys: 69.3 ms, total: 104 ms\n",
      "Wall time: 8.84 s\n"
     ]
    },
    {
     "data": {
      "text/plain": "[True, True, True, True, True, True, True, True]"
     },
     "execution_count": 6,
     "metadata": {},
     "output_type": "execute_result"
    }
   ],
   "source": [
    "%%time\n",
    "pool = Pool(8)\n",
    "success_flags = pool.map(run_test_from_config, run_configurations)\n",
    "# success_flags"
   ],
   "metadata": {
    "collapsed": false
   }
  },
  {
   "cell_type": "code",
   "execution_count": 7,
   "outputs": [],
   "source": [
    "# from runners import run_test\n",
    "#\n",
    "# for i, config in enumerate(run_configurations[:8]):\n",
    "#     print(i)\n",
    "#     args, kwargs = config\n",
    "#     run_test(*args, **kwargs)"
   ],
   "metadata": {
    "collapsed": false
   }
  },
  {
   "cell_type": "code",
   "execution_count": 7,
   "outputs": [],
   "source": [],
   "metadata": {
    "collapsed": false
   }
  }
 ],
 "metadata": {
  "kernelspec": {
   "display_name": "Python 3",
   "language": "python",
   "name": "python3"
  },
  "language_info": {
   "codemirror_mode": {
    "name": "ipython",
    "version": 2
   },
   "file_extension": ".py",
   "mimetype": "text/x-python",
   "name": "python",
   "nbconvert_exporter": "python",
   "pygments_lexer": "ipython2",
   "version": "2.7.6"
  }
 },
 "nbformat": 4,
 "nbformat_minor": 0
}
